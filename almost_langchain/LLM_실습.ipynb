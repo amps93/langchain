{
 "cells": [
  {
   "cell_type": "code",
   "execution_count": 1,
   "id": "a8a31c78-5177-47e5-ae06-54b050da90cb",
   "metadata": {},
   "outputs": [
    {
     "data": {
      "text/plain": [
       "True"
      ]
     },
     "execution_count": 1,
     "metadata": {},
     "output_type": "execute_result"
    }
   ],
   "source": [
    "from dotenv import load_dotenv\n",
    "load_dotenv()"
   ]
  },
  {
   "cell_type": "markdown",
   "id": "313a3b58-a93f-48e7-829d-cbc8fd54ed0a",
   "metadata": {},
   "source": [
    "# API 통해 gpt-3, chat-gpt와 대화해보기"
   ]
  },
  {
   "cell_type": "code",
   "execution_count": 5,
   "id": "a6588086-b25e-4758-876d-5be8cac62067",
   "metadata": {},
   "outputs": [
    {
     "data": {
      "text/plain": [
       "'\\n\\n파이썬은 다양한 분야에서 활용도가 높고 배우기 쉽다는 점 때문에 가장 인기 있는 언어 중 하나입니다. 또한 문법이 간결하고 가독성이 높아서 초보자도 쉽게 배우고 읽을 수 있기 때문에 프로그래밍을 처음 시작하는 사람들에게 애용됩니다. 또한 파이썬은 다른 언어와의 통합이 용이하고 다양한 라이브러리가 존재해 개발 속도를 높여주는 편리한 언어입니다. 또한 데이터 분석, 인공지능, 웹 개발 등 다양한 분야에서도 사용되어 많은 사람들이 관심을 갖고 있습니다. 이러한 이유들로 인해 파이썬은 가장 인기 있는 프로그'"
      ]
     },
     "execution_count": 5,
     "metadata": {},
     "output_type": "execute_result"
    }
   ],
   "source": [
    "from langchain.llms import OpenAI\n",
    "\n",
    "davinch3 = OpenAI(model_name='gpt-3.5-turbo-instruct')\n",
    "davinch3.predict('why python is the most popular language? answer in korean')"
   ]
  },
  {
   "cell_type": "code",
   "execution_count": 14,
   "id": "73ffb267-2e53-4069-b6ec-5559eb05440e",
   "metadata": {},
   "outputs": [
    {
     "data": {
      "text/plain": [
       "'파이썬이 가장 인기 있는 언어인 이유는 여러 가지가 있습니다.\\n\\n1. **쉬운 문법**: 파이썬은 읽고 쓰기 쉬운 문법을 가지고 있어, 프로그래밍 초보자들도 쉽게 배울 수 있습니다.\\n2. **광범위한 라이브러리**: 파이썬은 다양한 라이브러리와 프레임워크를 제공하여, 데이터 분석, 인공지능, 웹 개발 등 여러 분야에서 활용 가능합니다.\\n3. **강력한 커뮤니티 지원**: 활발한 커뮤니티가 있어 문제 해결이 용이하고, 다양한 자료와 튜토리얼을 쉽게 찾을 수 있습니다.\\n4. **다양한 응용 분야**: 웹 개발, 데이터 과학, 인공지능, 자동화 등 다양한 분야에서 사용될 수 있는 범용성 있는 언어입니다.\\n5. **크로스 플랫폼**: 파이썬은 Windows, macOS, Linux 등 다양한 운영체제에서 실행 가능하여 호환성이 뛰어납니다.\\n\\n이러한 이유들로 인해 파이썬은 많은 개발자들 사이에서 가장 인기 있는 프로그래밍 언어로 자리 잡고 있습니다.'"
      ]
     },
     "execution_count": 14,
     "metadata": {},
     "output_type": "execute_result"
    }
   ],
   "source": [
    "from langchain_openai import ChatOpenAI\n",
    "\n",
    "chatgpt = ChatOpenAI(model_name='gpt-4o')\n",
    "answer = chatgpt.invoke('why python is the most popular language? answer in korean')\n",
    "answer.content"
   ]
  },
  {
   "cell_type": "markdown",
   "id": "cb875f82-fb8a-49eb-a912-1a7b0ea628ab",
   "metadata": {},
   "source": [
    "# 2. 매개변수 조절해보기"
   ]
  },
  {
   "cell_type": "code",
   "execution_count": null,
   "id": "43808d55-85c3-419b-a834-f7e9737511df",
   "metadata": {},
   "outputs": [],
   "source": [
    "# temperature"
   ]
  },
  {
   "cell_type": "code",
   "execution_count": 17,
   "id": "70b85449-3cfb-4efe-9ed1-28d7a85dceee",
   "metadata": {},
   "outputs": [
    {
     "data": {
      "text/plain": [
       "'파이썬은 가장 인기 있는 프로그래밍 언어 중 하나인데, 그 이유는 다양한 분야에서 사용되며 쉽고 간결한 문법을 가지고 있기 때문입니다. 또한 데이터 과학, 인공지능, 웹 개발 등 다양한 분야에서 활용되며 커뮤니티가 활발하고 다양한 라이브러리와 프레임워크가 지원되기 때문에 많은 사람들이 파이썬을 선호하는 것입니다.'"
      ]
     },
     "execution_count": 17,
     "metadata": {},
     "output_type": "execute_result"
    }
   ],
   "source": [
    "chatgpt = ChatOpenAI(model_name='gpt-3.5-turbo', temperature=0)\n",
    "answer = chatgpt.invoke('why python is the most popular language? answer in korean')\n",
    "answer.content"
   ]
  },
  {
   "cell_type": "code",
   "execution_count": 18,
   "id": "9dd59101-f96a-4ab6-9d50-f39ccc2ef1b0",
   "metadata": {},
   "outputs": [
    {
     "data": {
      "text/plain": [
       "'파이썬은 다음과 같은 이유로 가장 인기 있는 프로그래밍 언어 중 하나입니다.\\n\\n1. 초보자 친화적: 파이썬은 간결하고 읽기 쉬운 문법을 가지고 있어 프로그래밍을 처음 시작하는 사람들에게 적합합니다.\\n\\n2. 다용도: 파이썬은 데이터 분석, 웹 개발, 인공지능, 자동화 등 다양한 분야에서 사용되는 다목적 프로그래밍 언어로 인기를 얻고 있습니다.\\n\\n3. 커뮤니티 및 라이브러리: 파이썬은 활발한 개발자 커뮤니티와 다양한 라이브러리를 보유하고 있어 개발 작업을 보다 간편하게 할 수 있습니다.\\n\\n4. 크로스 플랫폼: 파이썬은 다양한 운영 체제에서 사용할 수 있어 개발자들이 여러 환경에서 일관된 코드를 작성할 수 있습니다.\\n\\n이러한 이유로 파이썬은 현재 가장 인기 있는 프로그래밍 언어 중 하나로 선정되고 있습니다.'"
      ]
     },
     "execution_count": 18,
     "metadata": {},
     "output_type": "execute_result"
    }
   ],
   "source": [
    "chatgpt = ChatOpenAI(model_name='gpt-3.5-turbo', temperature=1)\n",
    "answer = chatgpt.invoke('why python is the most popular language? answer in korean')\n",
    "answer.content"
   ]
  },
  {
   "cell_type": "code",
   "execution_count": 19,
   "id": "b8d5e4ff-0064-4a68-a1ed-22145f23f71d",
   "metadata": {},
   "outputs": [],
   "source": [
    "# streaming"
   ]
  },
  {
   "cell_type": "code",
   "execution_count": 28,
   "id": "11c01a35-de88-4b91-a91a-586f8218ba70",
   "metadata": {},
   "outputs": [],
   "source": [
    "from langchain.callbacks.streaming_stdout import StreamingStdOutCallbackHandler\n",
    "\n",
    "chatgpt = ChatOpenAI(model_name='gpt-3.5-turbo', temperature=0, callbacks=[StreamingStdOutCallbackHandler()])\n",
    "answer = chatgpt.predict('why python is the most popular language? answer in korean')"
   ]
  },
  {
   "cell_type": "code",
   "execution_count": null,
   "id": "572d782e-f34f-426f-9729-9ec471553f95",
   "metadata": {},
   "outputs": [],
   "source": [
    "# Message"
   ]
  },
  {
   "cell_type": "code",
   "execution_count": 31,
   "id": "162ab785-5b67-4ceb-8360-aae67367de12",
   "metadata": {},
   "outputs": [
    {
     "data": {
      "text/plain": [
       "AIMessage(content='나는 Langchain을 좋아해요.', additional_kwargs={'refusal': None}, response_metadata={'token_usage': {'completion_tokens': 11, 'prompt_tokens': 25, 'total_tokens': 36, 'completion_tokens_details': {'reasoning_tokens': 0}}, 'model_name': 'gpt-3.5-turbo-0125', 'system_fingerprint': None, 'finish_reason': 'stop', 'logprobs': None}, id='run-e3e496d1-3d05-40b4-b556-7c074c78fefb-0', usage_metadata={'input_tokens': 25, 'output_tokens': 11, 'total_tokens': 36})"
      ]
     },
     "execution_count": 31,
     "metadata": {},
     "output_type": "execute_result"
    }
   ],
   "source": [
    "from langchain.schema import AIMessage, HumanMessage, SystemMessage\n",
    "\n",
    "messages = [\n",
    "    SystemMessage(\n",
    "        content='You are a helpful assistant that translates English to Korean'\n",
    "    ),\n",
    "    HumanMessage(\n",
    "        content='I love Langchain'\n",
    "    )\n",
    "]\n",
    "response_langchain = chatgpt.invoke(messages)\n",
    "response_langchain"
   ]
  },
  {
   "cell_type": "code",
   "execution_count": 32,
   "id": "a3ba7807-e6a8-4cd7-82d9-8e85d3e81082",
   "metadata": {},
   "outputs": [
    {
     "data": {
      "text/plain": [
       "'나는 Langchain을 좋아해요.'"
      ]
     },
     "execution_count": 32,
     "metadata": {},
     "output_type": "execute_result"
    }
   ],
   "source": [
    "response_langchain.content"
   ]
  },
  {
   "cell_type": "code",
   "execution_count": null,
   "id": "200891ce-45b6-4ef6-9800-e24b4f8c9e4b",
   "metadata": {},
   "outputs": [],
   "source": []
  }
 ],
 "metadata": {
  "kernelspec": {
   "display_name": "Python 3 (ipykernel)",
   "language": "python",
   "name": "python3"
  },
  "language_info": {
   "codemirror_mode": {
    "name": "ipython",
    "version": 3
   },
   "file_extension": ".py",
   "mimetype": "text/x-python",
   "name": "python",
   "nbconvert_exporter": "python",
   "pygments_lexer": "ipython3",
   "version": "3.12.3"
  }
 },
 "nbformat": 4,
 "nbformat_minor": 5
}
