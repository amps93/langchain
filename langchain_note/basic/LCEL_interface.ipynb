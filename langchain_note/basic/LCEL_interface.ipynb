{
 "cells": [
  {
   "cell_type": "code",
   "execution_count": 3,
   "id": "1fa09bf7-19db-4b01-961a-73fc9cbbe0b3",
   "metadata": {},
   "outputs": [
    {
     "data": {
      "text/plain": [
       "True"
      ]
     },
     "execution_count": 3,
     "metadata": {},
     "output_type": "execute_result"
    }
   ],
   "source": [
    "# API KEY를 환경변수로 관리하기 위한 설정 파일\n",
    "from dotenv import load_dotenv\n",
    "# API KEY 정보로드\n",
    "load_dotenv()"
   ]
  },
  {
   "cell_type": "code",
   "execution_count": 5,
   "id": "ceb561f9-0486-4546-b1c8-3ae1f1861e71",
   "metadata": {},
   "outputs": [],
   "source": [
    "from langchain_openai import ChatOpenAI\n",
    "from langchain_core.prompts import PromptTemplate\n",
    "from langchain_core.output_parsers import StrOutputParser\n",
    "from langchain_community.llms import Ollama\n",
    "from langchain_teddynote.messages import stream_response\n",
    "\n",
    "# ChatOpenAI 모델을 인스턴스화합니다.\n",
    "model = ChatOpenAI(model=\"gpt-3.5-turbo\")\n",
    "# 주어진 토픽에 대한 농담을 요청하는 프롬프트 템플릿을 생성합니다.\n",
    "prompt = PromptTemplate.from_template(\"{topic} 에 대하여 3문장으로 설명해줘.\")\n",
    "# 프롬프트와 모델을 연결하여 대화 체인을 생성합니다.\n",
    "chain = prompt | model | StrOutputParser()"
   ]
  },
  {
   "cell_type": "markdown",
   "id": "63e80566-9b4a-48b6-aa9e-2ecd09b5ba80",
   "metadata": {},
   "source": [
    "## async stream: 비동기 스트림\n",
    "함수 chain.astream은 비동기 스트림을 생성하며, 주어진 토픽에 대한 메시지를 비동기적으로 처리합니다.\n",
    "\n",
    "비동기 for 루프(async for)를 사용하여 스트림에서 메시지를 순차적으로 받아오고, print 함수를 통해 메시지의 내용(s.content)을 즉시 출력합니다. end=\"\"는 출력 후 줄바꿈을 하지 않도록 설정하며, flush=True는 출력 버퍼를 강제로 비워 즉시 출력되도록 합니다."
   ]
  },
  {
   "cell_type": "code",
   "execution_count": 6,
   "id": "a63e7d28-1453-444f-81c3-e56ec9629912",
   "metadata": {},
   "outputs": [
    {
     "name": "stdout",
     "output_type": "stream",
     "text": [
      "YouTube는 구글이 소유하고 운영하는 동영상 공유 플랫폼으로, 사용자들이 자체 제작한 동영상을 업로드하고 시청할 수 있는 서비스이다. 전 세계적으로 가장 인기 있는 온라인 동영상 플랫폼 중 하나로, 다양한 콘텐츠를 제공하고 시청자들에게 엔터테인먼트와 정보를 제공한다. 크리에이터들은 YouTube를 통해 수익을 창출하고 팬들과 소통할 수 있는 플랫폼으로 활용하고 있다."
     ]
    }
   ],
   "source": [
    "# 비동기 스트림을 사용하여 'YouTube' 토픽의 메시지를 처리합니다.\n",
    "async for token in chain.astream({\"topic\": \"YouTube\"}):\n",
    "    # 메시지 내용을 출력합니다. 줄바꿈 없이 바로 출력하고 버퍼를 비웁니다.\n",
    "    print(token, end=\"\", flush=True)"
   ]
  },
  {
   "cell_type": "markdown",
   "id": "40894c91-9768-4da7-8569-9385d59e8409",
   "metadata": {},
   "source": [
    "## async invoke: 비동기 호출\n",
    "chain 객체의 ainvoke 메서드는 비동기적으로 주어진 인자를 사용하여 작업을 수행합니다. 여기서는 topic이라는 키와 NVDA(엔비디아의 티커) 라는 값을 가진 딕셔너리를 인자로 전달하고 있습니다. 이 메서드는 특정 토픽에 대한 처리를 비동기적으로 요청하는 데 사용될 수 있습니다."
   ]
  },
  {
   "cell_type": "code",
   "execution_count": 7,
   "id": "bfb1e75b-647d-4a48-b617-db5774dbd0a3",
   "metadata": {},
   "outputs": [
    {
     "data": {
      "text/plain": [
       "'NVDA는 NVIDIA Corporation의 주식 코드이며, 미국의 반도체 기업으로 GPU(그래픽 가속기)를 개발하는 선두 기업 중 하나이다. NVDA 주식은 기술 주식으로 알려져 있으며 기술 산업의 성장에 큰 영향을 미치는 기업 중 하나로 손꼽힌다.'"
      ]
     },
     "execution_count": 7,
     "metadata": {},
     "output_type": "execute_result"
    }
   ],
   "source": [
    "# 비동기 체인 객체의 'ainvoke' 메서드를 호출하여 'NVDA' 토픽을 처리합니다.\n",
    "my_process = chain.ainvoke({\"topic\": \"NVDA\"})\n",
    "# 비동기로 처리되는 프로세스가 완료될 때까지 기다립니다.\n",
    "await my_process"
   ]
  },
  {
   "cell_type": "markdown",
   "id": "5179ab2c-4157-4fd6-88a8-264a0a2ad891",
   "metadata": {},
   "source": [
    "## async batch: 비동기 배치\n",
    "함수 abatch는 비동기적으로 일련의 작업을 일괄 처리합니다.\n",
    "\n",
    "이 예시에서는 chain 객체의 abatch 메서드를 사용하여 topic 에 대한 작업을 비동기적으로 처리하고 있습니다.\n",
    "\n",
    "await 키워드는 해당 비동기 작업이 완료될 때까지 기다리는 데 사용됩니다."
   ]
  },
  {
   "cell_type": "code",
   "execution_count": 8,
   "id": "7dd2282b-1c9c-4746-af6a-f8a23bcb4e39",
   "metadata": {},
   "outputs": [
    {
     "data": {
      "text/plain": [
       "['YouTube는 구글이 소유하고 운영하는 동영상 공유 플랫폼으로, 사용자들이 자신의 동영상을 업로드하고 시청할 수 있는 서비스이다. 다양한 콘텐츠를 제공하며, 유명인이나 크리에이터들의 채널을 통해 다양한 정보와 엔터테인먼트를 즐길 수 있다. 광고 수익을 창출하거나 구독자들과 소통하기 위한 기능들을 제공하여 많은 사람들에게 사랑받고 있다.',\n",
       " 'Instagram은 사진과 영상을 공유하는 소셜 미디어 플랫폼으로, 사용자들은 자신의 일상을 다른 사람들과 공유하고 소통할 수 있다. 다양한 필터와 편집 기능을 제공하여 사용자들이 보다 멋진 사진을 쉽게 만들 수 있도록 도와준다. 또한 해시태그를 통해 관심사나 주제별로 다양한 콘텐츠를 찾을 수 있어 인기를 끌고 있다.',\n",
       " 'Facebook은 세계적으로 가장 인기 있는 소셜 네트워킹 서비스 중 하나로 사용자들이 친구들과 소통하고 콘텐츠를 공유하는 플랫폼이다. 사용자들은 글, 사진, 동영상 등 다양한 형식의 콘텐츠를 올릴 수 있고, 댓글이나 좋아요를 통해 상호 소통할 수 있다. 또한 광고를 통해 비지니스 활동을 홍보하거나 이벤트를 알리는 등 다양한 목적으로 활용되고 있다.']"
      ]
     },
     "execution_count": 8,
     "metadata": {},
     "output_type": "execute_result"
    }
   ],
   "source": [
    "# 주어진 토픽에 대해 비동기적으로 일괄 처리를 수행합니다.\n",
    "my_abatch_process = chain.abatch(\n",
    "    [{\"topic\": \"YouTube\"}, {\"topic\": \"Instagram\"}, {\"topic\": \"Facebook\"}]\n",
    ")\n",
    "# 비동기로 처리되는 일괄 처리 프로세스가 완료될 때까지 기다립니다.\n",
    "await my_abatch_process"
   ]
  },
  {
   "cell_type": "code",
   "execution_count": null,
   "id": "abf1e85a-739d-4bd8-aeaa-e2cc6caf5c5e",
   "metadata": {},
   "outputs": [],
   "source": []
  }
 ],
 "metadata": {
  "kernelspec": {
   "display_name": "Python 3 (ipykernel)",
   "language": "python",
   "name": "python3"
  },
  "language_info": {
   "codemirror_mode": {
    "name": "ipython",
    "version": 3
   },
   "file_extension": ".py",
   "mimetype": "text/x-python",
   "name": "python",
   "nbconvert_exporter": "python",
   "pygments_lexer": "ipython3",
   "version": "3.12.3"
  }
 },
 "nbformat": 4,
 "nbformat_minor": 5
}
